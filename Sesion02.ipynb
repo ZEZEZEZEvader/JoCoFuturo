{
  "nbformat": 4,
  "nbformat_minor": 0,
  "metadata": {
    "colab": {
      "provenance": []
    },
    "kernelspec": {
      "name": "python3",
      "display_name": "Python 3"
    },
    "language_info": {
      "name": "python"
    }
  },
  "cells": [
    {
      "cell_type": "code",
      "execution_count": 5,
      "metadata": {
        "id": "k2fnVWZOgh2y"
      },
      "outputs": [],
      "source": [
        "# 1+2+3+4+5...+98+99+100=?\n",
        "# for\n",
        "# suma 1+2+3+4+5...+99+100=?"
      ]
    },
    {
      "cell_type": "code",
      "source": [
        "for i in range(10):\n",
        "  print(\"El valor de i es\",i)"
      ],
      "metadata": {
        "colab": {
          "base_uri": "https://localhost:8080/"
        },
        "id": "P-voJsIvhoBA",
        "outputId": "986fca0d-a411-4dac-f9a8-729d0dcc1575"
      },
      "execution_count": 2,
      "outputs": [
        {
          "output_type": "stream",
          "name": "stdout",
          "text": [
            "El valor de i es 0\n",
            "El valor de i es 1\n",
            "El valor de i es 2\n",
            "El valor de i es 3\n",
            "El valor de i es 4\n",
            "El valor de i es 5\n",
            "El valor de i es 6\n",
            "El valor de i es 7\n",
            "El valor de i es 8\n",
            "El valor de i es 9\n"
          ]
        }
      ]
    },
    {
      "cell_type": "code",
      "source": [
        "for i in range(10):\n",
        "  print(\"El valor de i es\",i)"
      ],
      "metadata": {
        "colab": {
          "base_uri": "https://localhost:8080/"
        },
        "id": "y84zU5rvjUAu",
        "outputId": "c1cbc84b-e540-4c89-de41-8c44dce3cee0"
      },
      "execution_count": 6,
      "outputs": [
        {
          "output_type": "stream",
          "name": "stdout",
          "text": [
            "El valor de i es 0\n",
            "El valor de i es 1\n",
            "El valor de i es 2\n",
            "El valor de i es 3\n",
            "El valor de i es 4\n",
            "El valor de i es 5\n",
            "El valor de i es 6\n",
            "El valor de i es 7\n",
            "El valor de i es 8\n",
            "El valor de i es 9\n"
          ]
        }
      ]
    },
    {
      "cell_type": "code",
      "source": [
        "suma=0\n",
        "for i in range(100):\n",
        "  suma=suma+(i+1)\n",
        "  #print(i+1)\n",
        "print(suma)\n",
        "  # suma=3,   i=2,i+1=3"
      ],
      "metadata": {
        "colab": {
          "base_uri": "https://localhost:8080/"
        },
        "id": "chnBRdowlHBd",
        "outputId": "b0c12513-101b-459e-c899-cb062be969a8"
      },
      "execution_count": 13,
      "outputs": [
        {
          "output_type": "stream",
          "name": "stdout",
          "text": [
            "5050\n"
          ]
        }
      ]
    },
    {
      "cell_type": "code",
      "source": [
        "for i in range(5,10):\n",
        "  print(i)"
      ],
      "metadata": {
        "colab": {
          "base_uri": "https://localhost:8080/"
        },
        "id": "wNqDFxAyn2i1",
        "outputId": "764af8b0-b667-4968-95a3-824e2f41781b"
      },
      "execution_count": 15,
      "outputs": [
        {
          "output_type": "stream",
          "name": "stdout",
          "text": [
            "5\n",
            "6\n",
            "7\n",
            "8\n",
            "9\n"
          ]
        }
      ]
    },
    {
      "cell_type": "code",
      "source": [
        "for i in range(10,16):\n",
        "  print(i)"
      ],
      "metadata": {
        "colab": {
          "base_uri": "https://localhost:8080/"
        },
        "id": "bcHDtD0RosEX",
        "outputId": "86224b80-1113-43b6-8341-94cbac40a188"
      },
      "execution_count": 16,
      "outputs": [
        {
          "output_type": "stream",
          "name": "stdout",
          "text": [
            "10\n",
            "11\n",
            "12\n",
            "13\n",
            "14\n",
            "15\n"
          ]
        }
      ]
    },
    {
      "cell_type": "code",
      "source": [
        "for i in range(1,21,2):\n",
        "  print(i)"
      ],
      "metadata": {
        "colab": {
          "base_uri": "https://localhost:8080/"
        },
        "id": "cd0lmOOto_5S",
        "outputId": "f41d663a-6545-444f-a9b7-fa42c2e82633"
      },
      "execution_count": 17,
      "outputs": [
        {
          "output_type": "stream",
          "name": "stdout",
          "text": [
            "1\n",
            "3\n",
            "5\n",
            "7\n",
            "9\n",
            "11\n",
            "13\n",
            "15\n",
            "17\n",
            "19\n"
          ]
        }
      ]
    },
    {
      "cell_type": "code",
      "source": [
        "#100+101+102+...+199+200=?\n",
        "suma=0\n",
        "for i in range(100,201):\n",
        "  suma=suma+i\n",
        "print(suma)"
      ],
      "metadata": {
        "colab": {
          "base_uri": "https://localhost:8080/"
        },
        "id": "m-Qhw6F1qVEL",
        "outputId": "08a84e0b-5708-46b4-cb34-57125fcefa67"
      },
      "execution_count": 19,
      "outputs": [
        {
          "output_type": "stream",
          "name": "stdout",
          "text": [
            "15150\n"
          ]
        }
      ]
    },
    {
      "cell_type": "code",
      "source": [
        "#1 programa donde le piden al usuario el limite superior \n",
        "# para realizar la suma partiendo desde cero y hasta llegar\n",
        "# al limite superior\n",
        "# si el usuario me dice que el limite superior es 145\n",
        "# suma de 1+2+3+4+...+145"
      ],
      "metadata": {
        "id": "O6uGkaPZqrhw"
      },
      "execution_count": null,
      "outputs": []
    },
    {
      "cell_type": "code",
      "source": [
        "limite=int(input('Escribe el limite superior:'))\n",
        "suma=0\n",
        "for i in range(1,limite+1):\n",
        "  suma+=i #suma=suma+1\n",
        "print(suma)"
      ],
      "metadata": {
        "colab": {
          "base_uri": "https://localhost:8080/"
        },
        "id": "HLsftwlHrWGh",
        "outputId": "d8bca6ec-80bf-43a4-eae9-6d515cf8fe8e"
      },
      "execution_count": 22,
      "outputs": [
        {
          "output_type": "stream",
          "name": "stdout",
          "text": [
            "Escribe el limite superior:100\n",
            "5050\n"
          ]
        }
      ]
    },
    {
      "cell_type": "code",
      "source": [
        "9/4"
      ],
      "metadata": {
        "colab": {
          "base_uri": "https://localhost:8080/"
        },
        "id": "H5B_vxiCuu9b",
        "outputId": "f72c3023-18b7-4361-aa3e-a53596c7be42"
      },
      "execution_count": 23,
      "outputs": [
        {
          "output_type": "execute_result",
          "data": {
            "text/plain": [
              "2.25"
            ]
          },
          "metadata": {},
          "execution_count": 23
        }
      ]
    },
    {
      "cell_type": "code",
      "source": [
        "9//4"
      ],
      "metadata": {
        "colab": {
          "base_uri": "https://localhost:8080/"
        },
        "id": "5i8efIxNu326",
        "outputId": "a69968b4-926d-42dd-af0b-29fa31e24d57"
      },
      "execution_count": 24,
      "outputs": [
        {
          "output_type": "execute_result",
          "data": {
            "text/plain": [
              "2"
            ]
          },
          "metadata": {},
          "execution_count": 24
        }
      ]
    },
    {
      "cell_type": "code",
      "source": [
        "9%4 #modulo\n",
        "# 4+4=8\n",
        "# 4+4+4=12"
      ],
      "metadata": {
        "colab": {
          "base_uri": "https://localhost:8080/"
        },
        "id": "cAPw4hJyvR-L",
        "outputId": "3a12c0fa-67fa-4468-d029-884297a6ad28"
      },
      "execution_count": 27,
      "outputs": [
        {
          "output_type": "execute_result",
          "data": {
            "text/plain": [
              "1"
            ]
          },
          "metadata": {},
          "execution_count": 27
        }
      ]
    },
    {
      "cell_type": "code",
      "source": [
        "print('Este programa suma numeros pares')\n",
        "print('En un rango desde 1 hasta que nos diga')\n",
        "print('el usuario.')\n",
        "limite=int(input('Escribe el limite superior:'))\n",
        "suma=0\n",
        "for i in range(1,limite+1):\n",
        " if i%2==0:\n",
        "  suma+=i #suma=suma+1\n",
        "print(suma)\n",
        "# sumar unicamente numeros primos"
      ],
      "metadata": {
        "colab": {
          "base_uri": "https://localhost:8080/"
        },
        "id": "bofJ3bMzwKhR",
        "outputId": "49e165f9-0b58-4ff0-c20f-fe5d8b2224b1"
      },
      "execution_count": null,
      "outputs": [
        {
          "metadata": {
            "tags": null
          },
          "name": "stdout",
          "output_type": "stream",
          "text": [
            "Este programa suma numeros pares\n",
            "En un rango desde 1 hasta que nos diga\n",
            "el usuario.\n"
          ]
        }
      ]
    },
    {
      "cell_type": "code",
      "source": [],
      "metadata": {
        "id": "0DQLvE5SxMls"
      },
      "execution_count": null,
      "outputs": []
    }
  ]
}