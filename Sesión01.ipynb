{
  "nbformat": 4,
  "nbformat_minor": 0,
  "metadata": {
    "colab": {
      "provenance": []
    },
    "kernelspec": {
      "name": "python3",
      "display_name": "Python 3"
    },
    "language_info": {
      "name": "python"
    }
  },
  "cells": [
    {
      "cell_type": "code",
      "execution_count": null,
      "metadata": {
        "colab": {
          "base_uri": "https://localhost:8080/"
        },
        "id": "sgMP1NVZc3kY",
        "outputId": "2d1d3980-a288-4ef4-aa3a-0969230c743a"
      },
      "outputs": [
        {
          "name": "stdout",
          "output_type": "stream",
          "text": [
            "¿Cuál es tu nombre? Ze\n"
          ]
        }
      ],
      "source": [
        "nombre=input(\"¿Cuál es tu nombre? \")"
      ]
    },
    {
      "cell_type": "code",
      "source": [
        "print('Hola',nombre,', Bienvenido')"
      ],
      "metadata": {
        "colab": {
          "base_uri": "https://localhost:8080/"
        },
        "id": "lOnSRCW_gC8-",
        "outputId": "3839b8d2-881b-47e3-85d6-b4d96c61da0d"
      },
      "execution_count": null,
      "outputs": [
        {
          "output_type": "stream",
          "name": "stdout",
          "text": [
            "Hola Ze , Bienvenido\n"
          ]
        }
      ]
    },
    {
      "cell_type": "code",
      "source": [
        "type(nombre) # str -> string -> texto"
      ],
      "metadata": {
        "colab": {
          "base_uri": "https://localhost:8080/"
        },
        "id": "uRsn2uVyhAZy",
        "outputId": "016e321d-819d-4507-e486-cc6abe21d3e7"
      },
      "execution_count": null,
      "outputs": [
        {
          "output_type": "execute_result",
          "data": {
            "text/plain": [
              "str"
            ]
          },
          "metadata": {},
          "execution_count": 8
        }
      ]
    },
    {
      "cell_type": "code",
      "source": [
        "numero=100\n",
        "type(numero) # int -> integer -> numero entero"
      ],
      "metadata": {
        "colab": {
          "base_uri": "https://localhost:8080/"
        },
        "id": "JQirh2twiPkO",
        "outputId": "395fa2c5-5fc2-49d1-8216-a1be4cbca9a3"
      },
      "execution_count": null,
      "outputs": [
        {
          "output_type": "execute_result",
          "data": {
            "text/plain": [
              "int"
            ]
          },
          "metadata": {},
          "execution_count": 10
        }
      ]
    },
    {
      "cell_type": "markdown",
      "source": [],
      "metadata": {
        "id": "GCc-8H06f3SU"
      }
    },
    {
      "cell_type": "code",
      "source": [
        "decimal=3.1416\n",
        "type(decimal) # float -> numero decimal"
      ],
      "metadata": {
        "colab": {
          "base_uri": "https://localhost:8080/"
        },
        "id": "tBNiQPLvjspW",
        "outputId": "56784ef4-e652-4886-b5c4-02bb1a2d40a3"
      },
      "execution_count": null,
      "outputs": [
        {
          "output_type": "execute_result",
          "data": {
            "text/plain": [
              "float"
            ]
          },
          "metadata": {},
          "execution_count": 11
        }
      ]
    },
    {
      "cell_type": "code",
      "source": [
        "logica=True #verdadero\n",
        "type(logica) # bool -> booleano -> verdadero -> falso"
      ],
      "metadata": {
        "colab": {
          "base_uri": "https://localhost:8080/"
        },
        "id": "zKLkxkbjkp9C",
        "outputId": "f0ec267a-d0c2-4c54-9405-7dc94f877c69"
      },
      "execution_count": null,
      "outputs": [
        {
          "output_type": "execute_result",
          "data": {
            "text/plain": [
              "bool"
            ]
          },
          "metadata": {},
          "execution_count": 12
        }
      ]
    },
    {
      "cell_type": "code",
      "source": [
        "logica=False #falso\n",
        "type(logica) # bool -> booleano -> verdadero -> falso"
      ],
      "metadata": {
        "colab": {
          "base_uri": "https://localhost:8080/"
        },
        "id": "rskD7gxvlG6k",
        "outputId": "e6b234ef-b013-43a0-b7d0-ed09c73056f1"
      },
      "execution_count": null,
      "outputs": [
        {
          "output_type": "execute_result",
          "data": {
            "text/plain": [
              "bool"
            ]
          },
          "metadata": {},
          "execution_count": 13
        }
      ]
    },
    {
      "cell_type": "code",
      "source": [
        "num1=10\n",
        "num2=2"
      ],
      "metadata": {
        "id": "scn7NitLl0PM"
      },
      "execution_count": null,
      "outputs": []
    },
    {
      "cell_type": "code",
      "source": [
        "5+11+(12*3)"
      ],
      "metadata": {
        "colab": {
          "base_uri": "https://localhost:8080/"
        },
        "id": "1Aq5EHIvmguE",
        "outputId": "52077050-09ab-4951-bb8a-e47cbe5a10d0"
      },
      "execution_count": null,
      "outputs": [
        {
          "output_type": "execute_result",
          "data": {
            "text/plain": [
              "52"
            ]
          },
          "metadata": {},
          "execution_count": 15
        }
      ]
    },
    {
      "cell_type": "code",
      "source": [
        "num1+num2 #sumar"
      ],
      "metadata": {
        "colab": {
          "base_uri": "https://localhost:8080/"
        },
        "id": "dXxhKAK-m2uO",
        "outputId": "9a8c90ff-1cf6-4894-c172-ee71bb6cea97"
      },
      "execution_count": null,
      "outputs": [
        {
          "output_type": "execute_result",
          "data": {
            "text/plain": [
              "12"
            ]
          },
          "metadata": {},
          "execution_count": 21
        }
      ]
    },
    {
      "cell_type": "code",
      "source": [
        "num1*num2 #multiplicar"
      ],
      "metadata": {
        "colab": {
          "base_uri": "https://localhost:8080/"
        },
        "id": "ECqJnae-nPdV",
        "outputId": "f53205c6-3252-4ea9-e62c-058cb6a41232"
      },
      "execution_count": null,
      "outputs": [
        {
          "output_type": "execute_result",
          "data": {
            "text/plain": [
              "20"
            ]
          },
          "metadata": {},
          "execution_count": 22
        }
      ]
    },
    {
      "cell_type": "code",
      "source": [
        "print('Este programa multiplica dos numeros')\n",
        "str_num1=input('Escribe el primer numero: ')\n",
        "str_num2=input('Escribe el segundo numero: ')\n",
        "int_num1=int(num1)\n",
        "int_num2=int(num2)\n",
        "resultado=int_num1*int_num2\n",
        "print('El resultado de',str_num1 ,resultado)\n",
        "# el resultado de 23 x 6 es 138"
      ],
      "metadata": {
        "colab": {
          "base_uri": "https://localhost:8080/"
        },
        "id": "0_lrUNSArq3-",
        "outputId": "f961c277-fb27-44ec-e465-436b2203697c"
      },
      "execution_count": null,
      "outputs": [
        {
          "output_type": "stream",
          "name": "stdout",
          "text": [
            "Este programa multiplica dos numeros\n",
            "Escribe el primer numero: 33\n",
            "Escribe el segundo numero: 3\n",
            "El resultado es 99\n"
          ]
        }
      ]
    },
    {
      "cell_type": "code",
      "source": [],
      "metadata": {
        "colab": {
          "base_uri": "https://localhost:8080/"
        },
        "id": "DTNwQ_lIsqw5",
        "outputId": "78308338-8c73-4bc1-de8d-303eb5fd3c4a"
      },
      "execution_count": null,
      "outputs": [
        {
          "output_type": "execute_result",
          "data": {
            "text/plain": [
              "str"
            ]
          },
          "metadata": {},
          "execution_count": 27
        }
      ]
    },
    {
      "cell_type": "code",
      "source": [
        "print('El resultado de {} x {} es {}'.format(int_num1,int_num2,resultado))"
      ],
      "metadata": {
        "colab": {
          "base_uri": "https://localhost:8080/"
        },
        "id": "7yNKZwBQx6Lr",
        "outputId": "c94b107e-ec14-4b84-e7f7-af94c44929fe"
      },
      "execution_count": null,
      "outputs": [
        {
          "output_type": "stream",
          "name": "stdout",
          "text": [
            "El resultado de 33 x 3 es 99\n"
          ]
        }
      ]
    },
    {
      "cell_type": "code",
      "source": [
        "print(\"Esta es una calculadora\")\n",
        "print(\"Elige el tipo de operacion del menú\")\n",
        "print('1. Sumar')\n",
        "print('2. Restar')\n",
        "print('3. Multiplicar')\n",
        "print('4. Dividir')\n",
        "res=input('¿que quieres hacer? ')\n",
        "num1=float(input('Escribe el primer numero:'))\n",
        "num2=float(input('Escribe el segundo numero:'))\n",
        "if res=='sumar':\n",
        "  print(' {} + {} = {}'.format(num1,num2,num1+num2))\n",
        "  elif res=='restar':\n",
        "    print(' {} - {} = {}'.format(num1,num2,num1-num2))\n",
        "    elif res=='multiplicar':\n",
        "      print(' {} * {} = {}'.format(num1,num2,num1*num2))\n",
        "      else:\n",
        "        print('Comando no valido')"
      ],
      "metadata": {
        "colab": {
          "base_uri": "https://localhost:8080/",
          "height": 130
        },
        "id": "GdHGAehxz7q2",
        "outputId": "24d5579f-3728-4bb6-9d19-6db558316f3e"
      },
      "execution_count": null,
      "outputs": [
        {
          "output_type": "error",
          "ename": "SyntaxError",
          "evalue": "ignored",
          "traceback": [
            "\u001b[0;36m  File \u001b[0;32m\"<ipython-input-53-f05bee6aedb1>\"\u001b[0;36m, line \u001b[0;32m12\u001b[0m\n\u001b[0;31m    elif res=='restar':\u001b[0m\n\u001b[0m       ^\u001b[0m\n\u001b[0;31mSyntaxError\u001b[0m\u001b[0;31m:\u001b[0m invalid syntax\n"
          ]
        }
      ]
    },
    {
      "cell_type": "code",
      "source": [
        "# Seleccion 'if', 'elif' y 'else'\n",
        "if 10>5 :\n",
        "  print('Verdadero')\n",
        "  else 10<5 :\n",
        "    print('Falso')"
      ],
      "metadata": {
        "colab": {
          "base_uri": "https://localhost:8080/",
          "height": 130
        },
        "id": "qiVMKmrF2h7f",
        "outputId": "f63b257f-b45c-43ce-9769-332f29fbc83a"
      },
      "execution_count": null,
      "outputs": [
        {
          "output_type": "error",
          "ename": "SyntaxError",
          "evalue": "ignored",
          "traceback": [
            "\u001b[0;36m  File \u001b[0;32m\"<ipython-input-47-d860f22e1a01>\"\u001b[0;36m, line \u001b[0;32m4\u001b[0m\n\u001b[0;31m    else 10<5 :\u001b[0m\n\u001b[0m       ^\u001b[0m\n\u001b[0;31mSyntaxError\u001b[0m\u001b[0;31m:\u001b[0m invalid syntax\n"
          ]
        }
      ]
    },
    {
      "cell_type": "code",
      "source": [
        "var='Miguel'\n",
        "if var=='Daniel':\n",
        "print('Eres Daniel')\n",
        "elif var== 'Miguel:'\n",
        "print('Eres Miguel')\n",
        "else:\n",
        "  print('No eres Daniel ni Miguel')"
      ],
      "metadata": {
        "colab": {
          "base_uri": "https://localhost:8080/",
          "height": 130
        },
        "id": "cls0ou3M3pbM",
        "outputId": "8b717ca5-9171-4f9f-9f53-cf4b175fb548"
      },
      "execution_count": null,
      "outputs": [
        {
          "output_type": "error",
          "ename": "IndentationError",
          "evalue": "ignored",
          "traceback": [
            "\u001b[0;36m  File \u001b[0;32m\"<ipython-input-48-05ae3285733d>\"\u001b[0;36m, line \u001b[0;32m3\u001b[0m\n\u001b[0;31m    print('Eres Daniel')\u001b[0m\n\u001b[0m        ^\u001b[0m\n\u001b[0;31mIndentationError\u001b[0m\u001b[0;31m:\u001b[0m expected an indented block\n"
          ]
        }
      ]
    },
    {
      "cell_type": "code",
      "source": [
        "num1=10\n",
        "num2=10\n",
        "if num1!=num2:\n",
        "  print('Son diferentes')\n",
        "  if num1>=num2:\n",
        "    print('El primero es mayor o igual que el segundo')\n",
        "  else:\n",
        "    print('El segundo es mayor que el primero')\n",
        "  if num1==num2:\n",
        "    print('Son iguales')\n",
        "  else:\n",
        "    print('Ninguna condicion')"
      ],
      "metadata": {
        "id": "RKa1flgTAAE2"
      },
      "execution_count": null,
      "outputs": []
    },
    {
      "cell_type": "code",
      "source": [
        "num1=10\n",
        "num2=10\n"
      ],
      "metadata": {
        "id": "MMHOzU3aDme1"
      },
      "execution_count": null,
      "outputs": []
    },
    {
      "cell_type": "code",
      "source": [
        "usuario='Miguel'\n",
        "contraseña='qwerty'\n",
        "usuario_ingresado=input('Nombre de usuario:')\n",
        "contraseña_ingresada=input('Contraseña:')\n",
        "if usuario_ingresado==usuario_db:\n",
        "  print('Usuario encontrado')\n",
        "if contraseña_ingresada==contraseña_db:\n",
        "  print('La contraseña coincide')\n",
        "  print('Entraste al sistema')\n",
        "else:\n",
        "  print('La contraseña no coincide')\n",
        "else:\n",
        "  print('Usuario no encotrado')"
      ],
      "metadata": {
        "colab": {
          "base_uri": "https://localhost:8080/",
          "height": 130
        },
        "id": "SkayXWxYFkFi",
        "outputId": "a8e78ac5-db9d-46bf-e175-dc58028ea06f"
      },
      "execution_count": null,
      "outputs": [
        {
          "output_type": "error",
          "ename": "SyntaxError",
          "evalue": "ignored",
          "traceback": [
            "\u001b[0;36m  File \u001b[0;32m\"<ipython-input-68-8b241ba8d081>\"\u001b[0;36m, line \u001b[0;32m12\u001b[0m\n\u001b[0;31m    else:\u001b[0m\n\u001b[0m       ^\u001b[0m\n\u001b[0;31mSyntaxError\u001b[0m\u001b[0;31m:\u001b[0m invalid syntax\n"
          ]
        }
      ]
    },
    {
      "cell_type": "code",
      "source": [],
      "metadata": {
        "id": "Y49pbMw1fe4f"
      },
      "execution_count": null,
      "outputs": []
    }
  ]
}